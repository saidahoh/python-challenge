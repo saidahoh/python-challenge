{
 "cells": [
  {
   "cell_type": "code",
   "execution_count": 1,
   "metadata": {},
   "outputs": [],
   "source": [
    "import os\n",
    "import csv\n",
    "\n",
    "filename = open('Resources/election_data.csv','r')\n",
    " \n",
    "file = csv.DictReader(filename)\n"
   ]
  },
  {
   "cell_type": "code",
   "execution_count": 2,
   "metadata": {},
   "outputs": [],
   "source": [
    "Candidate_ = \"\"\n",
    "VoteCounts = {}\n",
    "VotePercent = {}\n",
    "TotalVotes = 0\n",
    "WinnerCount = 0\n",
    "Winner = \"\"\n"
   ]
  },
  {
   "cell_type": "code",
   "execution_count": 5,
   "metadata": {},
   "outputs": [],
   "source": [
    "for row in file:\n",
    "    TotalVotes += 1\n",
    "    Candidate = row[\"Candidate\"]\n",
    "\n",
    "    if Candidate in VoteCounts:\n",
    "\n",
    "        VoteCounts[Candidate] = VoteCounts[Candidate] + 1\n",
    "        \n",
    "    else:\n",
    "        VoteCounts[Candidate] = 1\n",
    "\n",
    "for person, vote_count in VoteCounts.items():\n",
    "    VotePercent[person] = '{0:.0%}'.format(vote_count/TotalVotes)\n",
    "    if vote_count > WinnerCount:\n",
    "        WinnerCount = vote_count\n",
    "        Winner = person\n",
    "\n",
    "    "
   ]
  },
  {
   "cell_type": "code",
   "execution_count": 6,
   "metadata": {},
   "outputs": [],
   "source": [
    "break_ = \"---------------------\""
   ]
  },
  {
   "cell_type": "code",
   "execution_count": 7,
   "metadata": {},
   "outputs": [],
   "source": [
    "with open ('Analysis/analysis_results.txt','w') as p:\n",
    "    p.write(f\"{break_}\\n\")\n",
    "    p.write(f\"Total Votes: {TotalVotes}\\n\")\n",
    "    p.write(f\"{break_}\\n\")\n",
    "    for person, vote_count in VoteCounts.items():\n",
    "        p.write(f\"{person}: {VotePercent[person]}({vote_count})\\n\")\n",
    "    p.write(f\"{break_}\\n\")\n",
    "    p.write(f\"Winner: {Winner}\\n\")\n",
    "    \n",
    "    "
   ]
  },
  {
   "cell_type": "code",
   "execution_count": 8,
   "metadata": {},
   "outputs": [
    {
     "name": "stdout",
     "output_type": "stream",
     "text": [
      "---------------------\n",
      "Total Votes: 1048189\n",
      "---------------------\n",
      "Khan: 63%(661331)\n",
      "Correy: 20%(208976)\n",
      "Li: 14%(146309)\n",
      "O'Tooley: 3%(31573)\n",
      "---------------------\n",
      "Winner: Khan\n",
      "\n"
     ]
    }
   ],
   "source": [
    "final = open ('Analysis/analysis_results.txt','r')\n",
    "content = final.read()\n",
    "print(content)"
   ]
  },
  {
   "cell_type": "code",
   "execution_count": null,
   "metadata": {},
   "outputs": [],
   "source": []
  }
 ],
 "metadata": {
  "kernelspec": {
   "display_name": "Python [conda env:PythonData] *",
   "language": "python",
   "name": "conda-env-PythonData-py"
  },
  "language_info": {
   "codemirror_mode": {
    "name": "ipython",
    "version": 3
   },
   "file_extension": ".py",
   "mimetype": "text/x-python",
   "name": "python",
   "nbconvert_exporter": "python",
   "pygments_lexer": "ipython3",
   "version": "3.6.13"
  }
 },
 "nbformat": 4,
 "nbformat_minor": 4
}
