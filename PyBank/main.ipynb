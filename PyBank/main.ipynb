{
 "cells": [
  {
   "cell_type": "code",
   "execution_count": 3,
   "metadata": {},
   "outputs": [],
   "source": [
    "import os\n",
    "import csv\n",
    "\n",
    "filename = open('Resources/budget_data.csv','r')"
   ]
  },
  {
   "cell_type": "code",
   "execution_count": 4,
   "metadata": {},
   "outputs": [],
   "source": [
    "file = csv.DictReader(filename)"
   ]
  },
  {
   "cell_type": "code",
   "execution_count": 6,
   "metadata": {},
   "outputs": [
    {
     "name": "stdout",
     "output_type": "stream",
     "text": [
      "Financial Analysis\n",
      "===================\n",
      "Total Months: 86\n",
      "Total: $38382578\n",
      "Average Change: $-2315.12\n",
      "Greatest Increase in Profit: Feb-12 (1926159)\n",
      "Greatest Decrease in Profit: Sep-13 (-2196167)\n"
     ]
    }
   ],
   "source": [
    "TotalMonth = []\n",
    "TotalAmt = []\n",
    "Differences= []\n",
    "\n",
    "for col in file:\n",
    "    TotalMonth.append(col['Date'])\n",
    "    TotalAmt.append(col['Profit/Losses'])\n",
    "TotalMonths = len(TotalMonth)\n",
    "\n",
    "for i in range(0, len(TotalAmt)):\n",
    "    TotalAmt[i] = int(TotalAmt[i])\n",
    "\n",
    "\n",
    "\n",
    "Total_Change = (TotalAmt[85] - TotalAmt[0])\n",
    "Average_Change = (Total_Change/85)\n",
    "\n",
    "# Find greatest increase and decrease\n",
    "for x, y in zip(TotalAmt[0::], TotalAmt[1::]):\n",
    "    Differences.append(y-x)\n",
    "\n",
    "Maximum = max(Differences)\n",
    "Minimum = min(Differences)\n",
    "\n",
    "#Identify the index to fnd corresponding date\n",
    "position = Differences.index(Maximum)\n",
    "position2 = Differences.index(Minimum)\n",
    "\n",
    "#View positions\n",
    "# print(position)\n",
    "# print(position2)\n",
    "\n",
    "#In the next steps print out the results\n",
    "Total_M = \"Total Months: \" + str(TotalMonths)\n",
    "Total_R = \"Total: \" + \"$\" + str(sum(TotalAmt))\n",
    "Avg_C = \"Average Change: \" + \"$\" + str(round(Average_Change, 2))\n",
    "Great_In = \"Greatest Increase in Profit: \" + str(TotalMonth[25]) + \" \" +  \"(\" + str(Maximum) + \")\"\n",
    "Great_De = \"Greatest Decrease in Profit: \" + str(TotalMonth[44]) + \" \" +  \"(\" + str(Minimum) + \")\"\n",
    "\n",
    "print('Financial Analysis','===================', Total_M, Total_R, Avg_C, Great_In, Great_De, sep = '\\n')\n",
    "\n",
    "lines = ['Financial Analysis','===================' ,Total_M, Total_R, Avg_C, Great_In, Great_De]\n",
    "with open ('Analysis/analysis_results.txt','w') as f:\n",
    "    for line in lines:\n",
    "        f.write(line)\n",
    "        f.write('\\n')\n"
   ]
  },
  {
   "cell_type": "code",
   "execution_count": null,
   "metadata": {},
   "outputs": [],
   "source": []
  }
 ],
 "metadata": {
  "kernelspec": {
   "display_name": "Python [conda env:PythonData] *",
   "language": "python",
   "name": "conda-env-PythonData-py"
  },
  "language_info": {
   "codemirror_mode": {
    "name": "ipython",
    "version": 3
   },
   "file_extension": ".py",
   "mimetype": "text/x-python",
   "name": "python",
   "nbconvert_exporter": "python",
   "pygments_lexer": "ipython3",
   "version": "3.6.13"
  }
 },
 "nbformat": 4,
 "nbformat_minor": 4
}
